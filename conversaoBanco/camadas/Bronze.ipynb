{
 "cells": [
  {
   "cell_type": "code",
   "execution_count": 0,
   "metadata": {
    "application/vnd.databricks.v1+cell": {
     "cellMetadata": {
      "byteLimit": 2048000,
      "rowLimit": 10000
     },
     "collapsed": true,
     "inputWidgets": {},
     "nuid": "0c247a41-89ed-443b-aae3-1c98cda44cf0",
     "showTitle": false,
     "tableResultSettingsMap": {},
     "title": ""
    }
   },
   "outputs": [
    {
     "output_type": "stream",
     "name": "stdout",
     "output_type": "stream",
     "text": [
      "Arquivo clientes.csv movido para a Bronze Zone.\nArquivo imovel.csv movido para a Bronze Zone.\nArquivo cobertura.csv movido para a Bronze Zone.\nArquivo apoliceseguro.csv movido para a Bronze Zone.\nArquivo corretor.csv movido para a Bronze Zone.\nArquivo seguradora.csv movido para a Bronze Zone.\n"
     ]
    }
   ],
   "source": [
    "# bronze-zone\n",
    "from azure.storage.blob import BlobServiceClient\n",
    "import os\n",
    "from azure.core.exceptions import AzureError\n",
    "\n",
    "# Configuração do Azure Blob Storage\n",
    "azure_connection_string = \"DefaultEndpointsProtocol=https;AccountName=datalakea04fb344bd6a3620;AccountKey=A34ScnKfIF7RVIEA3FiPD80PSQMi56XtrozPHuiXhOPlb4C/J3jXoSHRNCmqjhjt+nqjtoWevEhk+ASt3Ehffg==;EndpointSuffix=core.windows.net\"\n",
    "\n",
    "# Nome dos containers para cada camada\n",
    "landing_container_name = \"landing-zone\"\n",
    "bronze_container_name = \"bronze\"\n",
    "\n",
    "# Conectar ao Azure Blob Storage\n",
    "blob_service_client = BlobServiceClient.from_connection_string(azure_connection_string)\n",
    "\n",
    "# Função para copiar arquivo de um container para outro\n",
    "def copy_to_bronze(file_name):\n",
    "    try:\n",
    "        # Obter o cliente do blob na Landing Zone\n",
    "        source_blob = blob_service_client.get_blob_client(container=landing_container_name, blob=file_name)\n",
    "\n",
    "        # Obter o cliente do blob na Bronze Zone\n",
    "        target_blob = blob_service_client.get_blob_client(container=bronze_container_name, blob=file_name)\n",
    "\n",
    "        # Copiar o arquivo para a Bronze Zone\n",
    "        target_blob.start_copy_from_url(source_blob.url)\n",
    "        print(f\"Arquivo {file_name} movido para a Bronze Zone.\")\n",
    "    except AzureError as e:\n",
    "        print(f\"Ocorreu um erro ao mover o arquivo para a Bronze Zone: {e}\")\n",
    "\n",
    "\n",
    "# Lista de arquivos para processar\n",
    "files_to_process = [\n",
    "    \"clientes.csv\",\n",
    "    \"imovel.csv\",\n",
    "    \"cobertura.csv\",\n",
    "    \"apoliceseguro.csv\",\n",
    "    \"corretor.csv\",\n",
    "    \"seguradora.csv\"\n",
    "]\n",
    "\n",
    "# Processar cada arquivo da Landing para a Bronze Zone\n",
    "for file_name in files_to_process:\n",
    "    copy_to_bronze(file_name)"
   ]
  },
  {
   "cell_type": "code",
   "execution_count": 0,
   "metadata": {
    "application/vnd.databricks.v1+cell": {
     "cellMetadata": {
      "byteLimit": 2048000,
      "rowLimit": 10000
     },
     "inputWidgets": {},
     "nuid": "3ded6214-b670-4786-b718-86ae164eba6d",
     "showTitle": false,
     "tableResultSettingsMap": {},
     "title": ""
    }
   },
   "outputs": [
    {
     "output_type": "stream",
     "name": "stdout",
     "output_type": "stream",
     "text": [
      "Tabela processada e salva na camada bronze.\n"
     ]
    }
   ],
   "source": [
    "from pyspark.sql.functions import current_timestamp, lit\n",
    "\n",
    "storageAccountName = \"datalakea04fb344bd6a3620\"\n",
    "\n",
    "tables = [\"cliente\", \"imovel\", \"cobertura\", \"apolice_seguro\", \"corretor\", \"seguradora\"]\n",
    "\n",
    "sas_token = \"sv=2022-11-02&ss=bfqt&srt=sco&sp=rwdlacupyx&se=2024-12-30T08:01:27Z&st=2024-12-02T00:01:27Z&spr=https&sig=2yF996fA%2FS1HCzmNIIU73E5%2BWcQ9pnKYzWfCzioZMzo%3D\"\n",
    "\n",
    "for table in tables:\n",
    "    input_path = f\"wasbs://landing-zone@{storageAccountName}.blob.core.windows.net/{table}\"\n",
    "    output_path = f\"wasbs://bronze@{storageAccountName}.blob.core.windows.net/{table}\"\n",
    "    \n",
    "    spark.conf.set(\n",
    "        f\"fs.azure.sas.landing-zone.{storageAccountName}.blob.core.windows.net\",\n",
    "        sas_token\n",
    "    )\n",
    "    spark.conf.set(\n",
    "        f\"fs.azure.sas.bronze.{storageAccountName}.blob.core.windows.net\",\n",
    "        sas_token\n",
    "    )\n",
    "    \n",
    "    landing_table = spark.read.option(\"header\", \"true\").csv(input_path)\n",
    "    \n",
    "    landing_table = landing_table.withColumn(\"dt_insert_bronze\", current_timestamp()).withColumn(\"filename\", lit(table))\n",
    "    \n",
    "    landing_table.write.format('delta').save(output_path)\n",
    "    \n",
    "print(f\"Tabela processada e salva na camada bronze.\")\n"
   ]
  },
  {
   "cell_type": "code",
   "execution_count": 0,
   "metadata": {
    "application/vnd.databricks.v1+cell": {
     "cellMetadata": {
      "byteLimit": 2048000,
      "rowLimit": 10000
     },
     "inputWidgets": {},
     "nuid": "d943e152-1c4c-4f78-939e-a6821e237039",
     "showTitle": false,
     "tableResultSettingsMap": {},
     "title": ""
    }
   },
   "outputs": [
    {
     "output_type": "stream",
     "name": "stdout",
     "output_type": "stream",
     "text": [
      "+------------+--------------------+-------+------------------+-------------+-----------+--------------------+---------+\n|cobertura_id|           descricao| premio|limite_indenizacao|seguradora_id|obrigatorio|    dt_insert_bronze| filename|\n+------------+--------------------+-------+------------------+-------------+-----------+--------------------+---------+\n|           1|Relationship cost...|1743.00|          43009.00|            1|      false|2024-12-02 00:04:...|cobertura|\n|           2|Everyone carry le...|8930.00|          58782.00|            2|      false|2024-12-02 00:04:...|cobertura|\n|           3|Congress cup sign...|2062.00|           4304.00|            3|       true|2024-12-02 00:04:...|cobertura|\n|           4|Worker hard baby ...|2086.00|          69797.00|            4|       true|2024-12-02 00:04:...|cobertura|\n|           5|Natural garden se...|5612.00|          53418.00|            5|       true|2024-12-02 00:04:...|cobertura|\n|           6|Major several dis...|9075.00|          21374.00|            6|      false|2024-12-02 00:04:...|cobertura|\n|           7|Land position sto...| 167.00|          11289.00|            7|      false|2024-12-02 00:04:...|cobertura|\n|           8|Say sure garden c...| 208.00|           9891.00|            8|       true|2024-12-02 00:04:...|cobertura|\n|           9|Executive woman p...| 981.00|          60181.00|            9|      false|2024-12-02 00:04:...|cobertura|\n|          10|Team production t...|7635.00|          93483.00|           10|       true|2024-12-02 00:04:...|cobertura|\n|          11|Pretty two room o...|7867.00|           7985.00|           11|      false|2024-12-02 00:04:...|cobertura|\n|          12|Shoulder clearly ...|1605.00|          61920.00|           12|       true|2024-12-02 00:04:...|cobertura|\n|          13|Pattern free buil...|1295.00|          51290.00|           13|       true|2024-12-02 00:04:...|cobertura|\n|          14|Or art whether cl...| 619.00|          89901.00|           14|      false|2024-12-02 00:04:...|cobertura|\n|          15|Adult change majo...| 863.00|          62004.00|           15|       true|2024-12-02 00:04:...|cobertura|\n|          16|Cut time accordin...|5784.00|          37657.00|           16|      false|2024-12-02 00:04:...|cobertura|\n|          17|Contain head laug...|2738.00|          10524.00|           17|      false|2024-12-02 00:04:...|cobertura|\n|          18|West early site a...|4629.00|          34757.00|           18|       true|2024-12-02 00:04:...|cobertura|\n|          19|Job expect includ...|7974.00|          13375.00|           19|       true|2024-12-02 00:04:...|cobertura|\n|          20|When open full ya...|3896.00|          91704.00|           20|       true|2024-12-02 00:04:...|cobertura|\n+------------+--------------------+-------+------------------+-------------+-----------+--------------------+---------+\nonly showing top 20 rows\n\n"
     ]
    }
   ],
   "source": [
    "from pyspark.sql import SparkSession\n",
    "\n",
    "spark = SparkSession.builder.appName(\"LeituraDelta\").getOrCreate()\n",
    "storageAccountName = \"datalakea04fb344bd6a3620\"\n",
    "sas_token = \"sv=2022-11-02&ss=bfqt&srt=sco&sp=rwdlacupyx&se=2024-12-30T08:01:27Z&st=2024-12-02T00:01:27Z&spr=https&sig=2yF996fA%2FS1HCzmNIIU73E5%2BWcQ9pnKYzWfCzioZMzo%3D\"\n",
    "\n",
    "spark.conf.set(\n",
    "    f\"fs.azure.sas.bronze.{storageAccountName}.blob.core.windows.net\",\n",
    "    sas_token\n",
    ")\n",
    "\n",
    "table_name = \"cobertura\"\n",
    "bronze_path = f\"wasbs://bronze@{storageAccountName}.blob.core.windows.net/{table_name}\"\n",
    "\n",
    "df = spark.read.format(\"delta\").load(bronze_path)\n",
    "\n",
    "df.show()\n"
   ]
  }
 ],
 "metadata": {
  "application/vnd.databricks.v1+notebook": {
   "dashboards": [],
   "environmentMetadata": {
    "base_environment": "",
    "client": "1"
   },
   "language": "python",
   "notebookMetadata": {
    "pythonIndentUnit": 4
   },
   "notebookName": "Bronze",
   "widgets": {}
  },
  "language_info": {
   "name": "python"
  }
 },
 "nbformat": 4,
 "nbformat_minor": 0
}
