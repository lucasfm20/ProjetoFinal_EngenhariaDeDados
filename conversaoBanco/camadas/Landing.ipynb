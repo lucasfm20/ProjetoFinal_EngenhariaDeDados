{
 "cells": [
  {
   "cell_type": "code",
   "execution_count": 0,
   "metadata": {
    "application/vnd.databricks.v1+cell": {
     "cellMetadata": {
      "byteLimit": 2048000,
      "rowLimit": 10000
     },
     "inputWidgets": {},
     "nuid": "2e129e97-690b-4b5d-841f-3efdf9e704f1",
     "showTitle": false,
     "tableResultSettingsMap": {},
     "title": ""
    }
   },
   "outputs": [
    {
     "output_type": "stream",
     "name": "stdout",
     "output_type": "stream",
     "text": [
      "Arquivo clientes.csv carregado no Azure Blob Storage.\nArquivo imovel.csv carregado no Azure Blob Storage.\nArquivo cobertura.csv carregado no Azure Blob Storage.\nArquivo apoliceseguro.csv carregado no Azure Blob Storage.\nArquivo corretor.csv carregado no Azure Blob Storage.\nArquivo seguradora.csv carregado no Azure Blob Storage.\n"
     ]
    }
   ],
   "source": [
    "#landing-zone\n",
    "import psycopg2\n",
    "import pandas as pd\n",
    "from sqlalchemy import create_engine, text\n",
    "from azure.storage.blob import BlobServiceClient\n",
    "import os\n",
    "from azure.core.exceptions import AzureError\n",
    "\n",
    "db_host = \"-\"\n",
    "db_port = \"5432\"\n",
    "db_name = \"Banco\"\n",
    "db_user = \"-\"\n",
    "db_password = \"-\"\n",
    "\n",
    "azure_connection_string = \"-\"\n",
    "\n",
    "conn = psycopg2.connect(host=db_host, port=db_port, dbname=db_name, user=db_user, password=db_password)\n",
    "\n",
    "blob_service_client = BlobServiceClient.from_connection_string(azure_connection_string)\n",
    "\n",
    "db_url = f\"postgresql://{db_user}:{db_password}@{db_host}:{db_port}/{db_name}\"\n",
    "engine = create_engine(db_url)\n",
    "\n",
    "def fetch_table_data(table_name):\n",
    "    query = text(f\"SELECT * FROM {table_name}\")\n",
    "    with engine.connect() as connection:\n",
    "        return pd.read_sql(query, con=connection)\n",
    "\n",
    "clientes_df = fetch_table_data('cliente')\n",
    "imovel_df = fetch_table_data('imovel')\n",
    "cobertura_df = fetch_table_data('cobertura')\n",
    "apolice_seguro_df = fetch_table_data('apolice_seguro')\n",
    "corretor_df = fetch_table_data('corretor')\n",
    "seguradora_df = fetch_table_data('seguradora')\n",
    "\n",
    "def save_to_azure_blob(df, file_name):\n",
    "    try:\n",
    "        file_name = file_name.lower().replace(\" \", \"_\")  \n",
    "\n",
    "        local_temp_path = f\"/tmp/{file_name}\"\n",
    "        os.makedirs(os.path.dirname(local_temp_path), exist_ok=True)  \n",
    "        df.to_csv(local_temp_path, index=False)\n",
    "\n",
    "        container_name = \"landing-zone\"  \n",
    "\n",
    "        container_client = blob_service_client.get_container_client(container_name)\n",
    "\n",
    "        blob_client = container_client.get_blob_client(file_name)\n",
    "        with open(local_temp_path, \"rb\") as data:\n",
    "            blob_client.upload_blob(data, overwrite=True)\n",
    "\n",
    "        print(f\"Arquivo {file_name} carregado no Azure Blob Storage.\")\n",
    "    \n",
    "    except AzureError as e:\n",
    "        print(f\"Ocorreu um erro ao tentar carregar o arquivo no Azure Blob Storage: {e}\")\n",
    "    except Exception as e:\n",
    "        print(f\"Ocorreu um erro inesperado: {e}\")\n",
    "\n",
    "save_to_azure_blob(clientes_df, \"clientes.csv\")\n",
    "save_to_azure_blob(imovel_df, \"imovel.csv\")\n",
    "save_to_azure_blob(cobertura_df, \"cobertura.csv\")\n",
    "save_to_azure_blob(apolice_seguro_df, \"apoliceseguro.csv\")\n",
    "save_to_azure_blob(corretor_df, \"corretor.csv\")\n",
    "save_to_azure_blob(seguradora_df, \"seguradora.csv\")\n"
   ]
  },
  {
   "cell_type": "code",
   "execution_count": 0,
   "metadata": {
    "application/vnd.databricks.v1+cell": {
     "cellMetadata": {
      "byteLimit": 2048000,
      "rowLimit": 10000
     },
     "inputWidgets": {},
     "nuid": "763913ec-d3b0-45f4-aa16-c73a3b7a721d",
     "showTitle": false,
     "tableResultSettingsMap": {},
     "title": ""
    }
   },
   "outputs": [
    {
     "output_type": "stream",
     "name": "stdout",
     "output_type": "stream",
     "text": [
      "OK!\nOK!\nOK!\nOK!\n"
     ]
    }
   ],
   "source": [
    "storageAccountName = \"datalakea04fb344bd6a3620\"\n",
    "sasToken = \"-\"\n",
    "\n",
    "def mount_adls(blobContainerName):\n",
    "    try:\n",
    "      dbutils.fs.mount(\n",
    "        source = \"wasbs://{}@{}.blob.core.windows.net\".format(blobContainerName, storageAccountName),\n",
    "        mount_point = f\"/mnt/{storageAccountName}/{blobContainerName}\",\n",
    "        extra_configs = {'fs.azure.sas.' + blobContainerName + '.' + storageAccountName + '.blob.core.windows.net': sasToken}\n",
    "      )\n",
    "      print(\"OK!\")\n",
    "    except Exception as e:\n",
    "      print(\"Falha\", e)\n",
    "\n",
    "\n",
    "mount_adls('landing-zone')\n",
    "mount_adls('bronze')\n",
    "mount_adls('silver')\n",
    "mount_adls('gold')"
   ]
  },
  {
   "cell_type": "code",
   "execution_count": 0,
   "metadata": {
    "application/vnd.databricks.v1+cell": {
     "cellMetadata": {
      "byteLimit": 2048000,
      "rowLimit": 10000
     },
     "inputWidgets": {},
     "nuid": "7d72605f-2aaa-4908-85f8-ee5078124bbe",
     "showTitle": false,
     "tableResultSettingsMap": {},
     "title": ""
    }
   },
   "outputs": [
    {
     "output_type": "stream",
     "name": "stdout",
     "output_type": "stream",
     "text": [
      "Tabela cliente salva na landing-zone.\nTabela imovel salva na landing-zone.\nTabela cobertura salva na landing-zone.\nTabela apolice_seguro salva na landing-zone.\nTabela corretor salva na landing-zone.\nTabela seguradora salva na landing-zone.\n"
     ]
    }
   ],
   "source": [
    "from pyspark.sql import SparkSession\n",
    "\n",
    "tables = [\"cliente\", \"imovel\", \"cobertura\", \"apolice_seguro\", \"corretor\", \"seguradora\"]\n",
    "\n",
    "for table in tables:\n",
    "    remote_table = (spark.read\n",
    "        .format(\"jdbc\")\n",
    "        .option(\"url\", jdbc_url)\n",
    "        .option(\"dbtable\", f\"public.{table}\")  \n",
    "        .options(**db_properties)  \n",
    "        .load())\n",
    "\n",
    "    remote_table.write.option(\"header\", \"true\").csv(f\"/mnt/{storageAccountName}/landing-zone/{table}.csv\")\n",
    "    print(f\"Tabela {table} salva na landing-zone.\")\n"
   ]
  },
  {
   "cell_type": "code",
   "execution_count": 0,
   "metadata": {
    "application/vnd.databricks.v1+cell": {
     "cellMetadata": {
      "byteLimit": 2048000,
      "rowLimit": 10000
     },
     "inputWidgets": {},
     "nuid": "bc726f4b-ad5d-407a-9db8-01e574a56464",
     "showTitle": false,
     "tableResultSettingsMap": {},
     "title": ""
    }
   },
   "outputs": [
    {
     "output_type": "stream",
     "name": "stdout",
     "output_type": "stream",
     "text": [
      "+------------------+--------------------+--------------------+--------------------+--------------------+--------------------+\n|        cliente_id|        nome_cliente|    endereco_cliente|    telefone_cliente|       email_cliente|                path|\n+------------------+--------------------+--------------------+--------------------+--------------------+--------------------+\n|                 1|       Steven Conrad|069 Courtney Corn...|    001-339-461-4007|austin66@example.com|dbfs:/mnt/datalak...|\n|                 2|        Brandi Mason|7934 Mcdowell For...|                NULL|                NULL|dbfs:/mnt/datalak...|\n| West Matthewhaven|           NE 99893\"|001-617-824-3623x...| klawson@example.org|                NULL|dbfs:/mnt/datalak...|\n|                 3|       Spencer Jones|2688 Phillips Tra...|                NULL|                NULL|dbfs:/mnt/datalak...|\n|        East Helen|           AS 20445\"|  (971)396-3288x1951|michele99@example...|                NULL|dbfs:/mnt/datalak...|\n|                 4|       Kelsey Horton|910 Schmidt Passa...|                NULL|                NULL|dbfs:/mnt/datalak...|\n|      New Toddport|           TN 02554\"|001-302-389-0867x...|taylorjesse@examp...|                NULL|dbfs:/mnt/datalak...|\n|                 5|    Samantha Gilbert|9420 Cross Island...|                NULL|                NULL|dbfs:/mnt/datalak...|\n|South Heathermouth|           AR 75529\"|  943-498-3416x18279|jhancock@example.net|                NULL|dbfs:/mnt/datalak...|\n|                 6|      David Robinson|0221 Kevin Lodge ...|                NULL|                NULL|dbfs:/mnt/datalak...|\n|           Raytown|           VT 37721\"|    895.302.5622x044|aprilmoss@example...|                NULL|dbfs:/mnt/datalak...|\n|                 7|       Michael Hayes| 97805 Boyd Radial\\n|                NULL|                NULL|dbfs:/mnt/datalak...|\n|         Lake Lori|           FL 56733\"|001-286-565-4665x...| dylan90@example.com|                NULL|dbfs:/mnt/datalak...|\n|                 8|       Michael Mejia|614 Katie Cove Ap...|                NULL|                NULL|dbfs:/mnt/datalak...|\n|        Walkerfurt|           NV 47279\"|   277.327.1782x2995|mercadojohnny@exa...|                NULL|dbfs:/mnt/datalak...|\n|                 9|     Jonathan Mendez|Unit 8964 Box 6911\\n|                NULL|                NULL|dbfs:/mnt/datalak...|\n|     DPO AE 96720\"|001-364-916-1729x...| parnold@example.com|                NULL|                NULL|dbfs:/mnt/datalak...|\n|                10|        Melissa Wolf|285 Barrett Ports...|                NULL|                NULL|dbfs:/mnt/datalak...|\n|  East Jessicatown|           WY 93669\"|       (904)477-3952|kimberlyrivera@ex...|                NULL|dbfs:/mnt/datalak...|\n|                11|       David Stevens|864 Christine Str...|                NULL|                NULL|dbfs:/mnt/datalak...|\n+------------------+--------------------+--------------------+--------------------+--------------------+--------------------+\nonly showing top 20 rows\n\n+------------------+----------+--------------------+-----------+------------+--------------------+\n|         imovel_id|cliente_id|     endereco_imovel|tipo_imovel|valor_imovel|                path|\n+------------------+----------+--------------------+-----------+------------+--------------------+\n|                 1|         1|0980 Curtis Garden\\n|       NULL|        NULL|dbfs:/mnt/datalak...|\n|    Cassandramouth| KS 99516\"|             Sobrado|   99719.00|        NULL|dbfs:/mnt/datalak...|\n|                 2|         2|6627 Brewer Circle\\n|       NULL|        NULL|dbfs:/mnt/datalak...|\n|    New Samuelfort| SC 91807\"|             Sobrado|   11453.00|        NULL|dbfs:/mnt/datalak...|\n|                 3|         3|   5638 Smith Loop\\n|       NULL|        NULL|dbfs:/mnt/datalak...|\n|        Greeneland| MP 04439\"|                Casa|   69844.00|        NULL|dbfs:/mnt/datalak...|\n|                 4|         4|904 Dwayne Highway\\n|       NULL|        NULL|dbfs:/mnt/datalak...|\n|         Sheriside| TX 10354\"|         Apartamento|   90445.00|        NULL|dbfs:/mnt/datalak...|\n|                 5|         5|778 Stephanie Mis...|       NULL|        NULL|dbfs:/mnt/datalak...|\n|        Port Tracy| VA 09364\"|             Sobrado|   55030.00|        NULL|dbfs:/mnt/datalak...|\n|                 6|         6|6719 Katherine Sp...|       NULL|        NULL|dbfs:/mnt/datalak...|\n|        Martinland| SD 37866\"|         Apartamento|   66905.00|        NULL|dbfs:/mnt/datalak...|\n|                 7|         7|     3838 Lisa Way\\n|       NULL|        NULL|dbfs:/mnt/datalak...|\n|        South Kyle| IA 68500\"|         Apartamento|   54641.00|        NULL|dbfs:/mnt/datalak...|\n|                 8|         8|5948 Zimmerman Ro...|       NULL|        NULL|dbfs:/mnt/datalak...|\n|Lake Elizabethstad| ME 94178\"|                Casa|   53452.00|        NULL|dbfs:/mnt/datalak...|\n|                 9|         9|03526 Munoz Expre...|       NULL|        NULL|dbfs:/mnt/datalak...|\n|        Vargasstad| OR 01713\"|         Apartamento|   81764.00|        NULL|dbfs:/mnt/datalak...|\n|                10|        10|584 Moon Streets ...|       NULL|        NULL|dbfs:/mnt/datalak...|\n|        South Adam| ND 52035\"|         Apartamento|   11202.00|        NULL|dbfs:/mnt/datalak...|\n+------------------+----------+--------------------+-----------+------------+--------------------+\nonly showing top 20 rows\n\n+------------+--------------------+-------+------------------+-------------+-----------+--------------------+\n|cobertura_id|           descricao| premio|limite_indenizacao|seguradora_id|obrigatorio|                path|\n+------------+--------------------+-------+------------------+-------------+-----------+--------------------+\n|           1|Relationship cost...|1743.00|          43009.00|            1|      false|dbfs:/mnt/datalak...|\n|           2|Everyone carry le...|8930.00|          58782.00|            2|      false|dbfs:/mnt/datalak...|\n|           3|Congress cup sign...|2062.00|           4304.00|            3|       true|dbfs:/mnt/datalak...|\n|           4|Worker hard baby ...|2086.00|          69797.00|            4|       true|dbfs:/mnt/datalak...|\n|           5|Natural garden se...|5612.00|          53418.00|            5|       true|dbfs:/mnt/datalak...|\n|           6|Major several dis...|9075.00|          21374.00|            6|      false|dbfs:/mnt/datalak...|\n|           7|Land position sto...| 167.00|          11289.00|            7|      false|dbfs:/mnt/datalak...|\n|           8|Say sure garden c...| 208.00|           9891.00|            8|       true|dbfs:/mnt/datalak...|\n|           9|Executive woman p...| 981.00|          60181.00|            9|      false|dbfs:/mnt/datalak...|\n|          10|Team production t...|7635.00|          93483.00|           10|       true|dbfs:/mnt/datalak...|\n|          11|Pretty two room o...|7867.00|           7985.00|           11|      false|dbfs:/mnt/datalak...|\n|          12|Shoulder clearly ...|1605.00|          61920.00|           12|       true|dbfs:/mnt/datalak...|\n|          13|Pattern free buil...|1295.00|          51290.00|           13|       true|dbfs:/mnt/datalak...|\n|          14|Or art whether cl...| 619.00|          89901.00|           14|      false|dbfs:/mnt/datalak...|\n|          15|Adult change majo...| 863.00|          62004.00|           15|       true|dbfs:/mnt/datalak...|\n|          16|Cut time accordin...|5784.00|          37657.00|           16|      false|dbfs:/mnt/datalak...|\n|          17|Contain head laug...|2738.00|          10524.00|           17|      false|dbfs:/mnt/datalak...|\n|          18|West early site a...|4629.00|          34757.00|           18|       true|dbfs:/mnt/datalak...|\n|          19|Job expect includ...|7974.00|          13375.00|           19|       true|dbfs:/mnt/datalak...|\n|          20|When open full ya...|3896.00|          91704.00|           20|       true|dbfs:/mnt/datalak...|\n+------------+--------------------+-------+------------------+-------------+-----------+--------------------+\nonly showing top 20 rows\n\n+----------+----------+---------+-------------+-----------+-----------+------------+--------------------+\n|apolice_id|cliente_id|imovel_id|seguradora_id|corretor_id|data_inicio|data_termino|                path|\n+----------+----------+---------+-------------+-----------+-----------+------------+--------------------+\n|         1|         1|        1|            1|          1| 2022-09-13|  2022-06-20|dbfs:/mnt/datalak...|\n|         2|         2|        2|            2|          2| 2023-09-15|  2023-07-28|dbfs:/mnt/datalak...|\n|         3|         3|        3|            3|          3| 2023-02-20|  2024-04-22|dbfs:/mnt/datalak...|\n|         4|         4|        4|            4|          4| 2021-12-31|  2023-05-08|dbfs:/mnt/datalak...|\n|         5|         5|        5|            5|          5| 2022-01-12|  2024-01-06|dbfs:/mnt/datalak...|\n|         6|         6|        6|            6|          6| 2024-03-30|  2024-09-12|dbfs:/mnt/datalak...|\n|         7|         7|        7|            7|          7| 2023-12-26|  2023-10-19|dbfs:/mnt/datalak...|\n|         8|         8|        8|            8|          8| 2024-10-04|  2024-08-10|dbfs:/mnt/datalak...|\n|         9|         9|        9|            9|          9| 2022-05-09|  2024-05-31|dbfs:/mnt/datalak...|\n|        10|        10|       10|           10|         10| 2023-12-17|  2022-03-31|dbfs:/mnt/datalak...|\n|        11|        11|       11|           11|         11| 2021-11-28|  2024-01-22|dbfs:/mnt/datalak...|\n|        12|        12|       12|           12|         12| 2023-05-06|  2022-06-22|dbfs:/mnt/datalak...|\n|        13|        13|       13|           13|         13| 2024-10-01|  2023-11-22|dbfs:/mnt/datalak...|\n|        14|        14|       14|           14|         14| 2023-07-18|  2023-08-24|dbfs:/mnt/datalak...|\n|        15|        15|       15|           15|         15| 2023-07-28|  2023-10-28|dbfs:/mnt/datalak...|\n|        16|        16|       16|           16|         16| 2024-07-31|  2023-09-13|dbfs:/mnt/datalak...|\n|        17|        17|       17|           17|         17| 2022-04-20|  2024-01-04|dbfs:/mnt/datalak...|\n|        18|        18|       18|           18|         18| 2023-06-03|  2024-01-15|dbfs:/mnt/datalak...|\n|        19|        19|       19|           19|         19| 2024-06-06|  2024-07-01|dbfs:/mnt/datalak...|\n|        20|        20|       20|           20|         20| 2022-12-14|  2023-06-14|dbfs:/mnt/datalak...|\n+----------+----------+---------+-------------+-----------+-----------+------------+--------------------+\nonly showing top 20 rows\n\n+-----------+-----------------+---------------+-------------+--------------------+--------------------+--------------------+\n|corretor_id|    nome_corretor|numero_registro|seguradora_id|   telefone_corretor|      email_corretor|                path|\n+-----------+-----------------+---------------+-------------+--------------------+--------------------+--------------------+\n|          1| Kimberly Morales|          33974|            1|    001-927-393-4972|lwilliams@example...|dbfs:/mnt/datalak...|\n|          2|  Martin Robinson|          19663|            2|  886-467-5470x33309|bakernicholas@exa...|dbfs:/mnt/datalak...|\n|          3|   Kathleen Brown|           7971|            3|+1-775-343-5737x6...|kathleenruiz@exam...|dbfs:/mnt/datalak...|\n|          4|  Allison Barnett|          94946|            4|       (998)852-0836|robertcrawford@ex...|dbfs:/mnt/datalak...|\n|          5|   Michael Ritter|          11991|            5|          7718827739|robertshunter@exa...|dbfs:/mnt/datalak...|\n|          6|   Timothy Gordon|          47092|            6|   (351)858-3018x456|howardmichelle@ex...|dbfs:/mnt/datalak...|\n|          7|  Jamie Dougherty|          56732|            7|        775-347-8112|stephenknight@exa...|dbfs:/mnt/datalak...|\n|          8|     Mary Roberts|          51222|            8|        284-721-7392|collinsbrian@exam...|dbfs:/mnt/datalak...|\n|          9|   Richard Murphy|          66223|            9|    215-546-1231x381|moranmegan@exampl...|dbfs:/mnt/datalak...|\n|         10|   Eric Fernandez|          89678|           10|          2388847881|garciaandrew@exam...|dbfs:/mnt/datalak...|\n|         11|    Heather Allen|          88020|           11|  (582)431-6454x8191|martinjacqueline@...|dbfs:/mnt/datalak...|\n|         12|     Maria Taylor|          86994|           12|        525.299.9985|desireewilson@exa...|dbfs:/mnt/datalak...|\n|         13| Andrea Gallagher|          38660|           13| (992)860-9612x65288| vhaynes@example.net|dbfs:/mnt/datalak...|\n|         14|      Joseph Boyd|          83712|           14|   251.593.4592x1451|waltersdebra@exam...|dbfs:/mnt/datalak...|\n|         15|      Eric Wright|          21544|           15|        949.875.2041|waltermichelle@ex...|dbfs:/mnt/datalak...|\n|         16|  Danielle George|           3573|           16|  623.859.6292x54463|gavinmartinez@exa...|dbfs:/mnt/datalak...|\n|         17|      Lisa Wilson|           7701|           17|001-855-677-6395x446|kathleenedwards@e...|dbfs:/mnt/datalak...|\n|         18|  Russell Farrell|          71291|           18|001-823-206-4927x...|zacharyhoward@exa...|dbfs:/mnt/datalak...|\n|         19|       Jill White|          39533|           19|  857-592-2329x00983|michael12@example...|dbfs:/mnt/datalak...|\n|         20|Samantha Reynolds|          98008|           20|001-756-878-5276x...|shaffermaureen@ex...|dbfs:/mnt/datalak...|\n+-----------+-----------------+---------------+-------------+--------------------+--------------------+--------------------+\nonly showing top 20 rows\n\n+--------------+--------------------+--------------------+--------------------+----------------+--------------------+\n| seguradora_id|     nome_seguradora| endereco_seguradora| telefone_seguradora|email_seguradora|                path|\n+--------------+--------------------+--------------------+--------------------+----------------+--------------------+\n|             1|      Stewart-Nelson|16029 Haley Fields\\n|                NULL|            NULL|dbfs:/mnt/datalak...|\n|      Maryfurt|           IA 87810\"|    442.917.3277x506|romerodaniel@exam...|            NULL|dbfs:/mnt/datalak...|\n|             2|Greene, Ellis and...|Unit 3188 Box 8616\\n|                NULL|            NULL|dbfs:/mnt/datalak...|\n| DPO AP 89055\"|       (985)784-6489|fostereric@exampl...|                NULL|            NULL|dbfs:/mnt/datalak...|\n|             3|Massey, Best and ...|Unit 3997 Box 9843\\n|                NULL|            NULL|dbfs:/mnt/datalak...|\n| DPO AP 56311\"|  997.446.4634x53677| traci75@example.net|                NULL|            NULL|dbfs:/mnt/datalak...|\n|             4|Hughes, Tran and ...| 80123 Leslie Loop\\n|                NULL|            NULL|dbfs:/mnt/datalak...|\n|    Martinfurt|           IN 98321\"|        917-473-3248|ehampton@example.com|            NULL|dbfs:/mnt/datalak...|\n|             5|Conrad, Hernandez...|1739 Matthew Prai...|                NULL|            NULL|dbfs:/mnt/datalak...|\n|    Hughesside|           NM 77964\"|        889-493-5811|  idavis@example.com|            NULL|dbfs:/mnt/datalak...|\n|             6|  Wilkinson-Roberson|   750 Jimmy Ferry\\n|                NULL|            NULL|dbfs:/mnt/datalak...|\n|     East Dawn|           GA 79249\"|    458-999-9890x582| kelly56@example.com|            NULL|dbfs:/mnt/datalak...|\n|             7|        Matthews Inc|      218 Gary Row\\n|                NULL|            NULL|dbfs:/mnt/datalak...|\n|   New Anafurt|           VI 61817\"|  463-893-9514x87322|reynoldschristoph...|            NULL|dbfs:/mnt/datalak...|\n|             8|        Olson-Hunter|49959 Bonnie Moun...|                NULL|            NULL|dbfs:/mnt/datalak...|\n|West Elizabeth|           NE 05164\"|   770-910-0535x1757|jacqueline42@exam...|            NULL|dbfs:/mnt/datalak...|\n|             9|Bender, Lewis and...|19930 Christopher...|                NULL|            NULL|dbfs:/mnt/datalak...|\n|    Kevinburgh|           CO 13475\"|  239.323.5884x85391|jordanjennifer@ex...|            NULL|dbfs:/mnt/datalak...|\n|            10|          Morgan LLC|345 Nicholas Squa...|                NULL|            NULL|dbfs:/mnt/datalak...|\n|   Raymondtown|           MN 47733\"|        839.541.3136|pjohnson@example.net|            NULL|dbfs:/mnt/datalak...|\n+--------------+--------------------+--------------------+--------------------+----------------+--------------------+\nonly showing top 20 rows\n\n"
     ]
    }
   ],
   "source": [
    "from pyspark.sql import functions as F\n",
    "\n",
    "for table in tables:\n",
    "    path = f\"/mnt/{storageAccountName}/landing-zone/{table}/\"\n",
    "    \n",
    "    landing_table = spark.read.option(\"header\", \"true\").csv(path).withColumn(\"path\", F.input_file_name())\n",
    "    \n",
    "    landing_table = landing_table.filter(~F.col(\"path\").like(\"%_committed%\"))\n",
    "    \n",
    "    landing_table.show()\n"
   ]
  }
 ],
 "metadata": {
  "application/vnd.databricks.v1+notebook": {
   "dashboards": [],
   "environmentMetadata": {
    "base_environment": "",
    "client": "1"
   },
   "language": "python",
   "notebookMetadata": {
    "pythonIndentUnit": 4
   },
   "notebookName": "Landing",
   "widgets": {}
  },
  "language_info": {
   "name": "python"
  }
 },
 "nbformat": 4,
 "nbformat_minor": 0
}
