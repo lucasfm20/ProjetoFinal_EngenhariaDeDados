{
 "cells": [
  {
   "cell_type": "code",
   "execution_count": 0,
   "metadata": {
    "application/vnd.databricks.v1+cell": {
     "cellMetadata": {
      "byteLimit": 2048000,
      "rowLimit": 10000
     },
     "inputWidgets": {},
     "nuid": "5e573096-184e-4a69-9855-380e7f7843c0",
     "showTitle": false,
     "tableResultSettingsMap": {},
     "title": ""
    }
   },
   "outputs": [],
   "source": [
    "from pyspark.sql import SparkSession\n",
    "from pyspark.sql.functions import col, regexp_replace, lit, current_timestamp\n",
    "\n",
    "storageAccountName = \"datalakea04fb344bd6a3620\"\n",
    "sas_token = \"-\"\n",
    "\n",
    "spark = SparkSession.builder.appName(\"LeituraDelta\").getOrCreate()\n",
    "\n",
    "spark.conf.set(\n",
    "    f\"fs.azure.sas.silver.{storageAccountName}.blob.core.windows.net\", \n",
    "    sas_token\n",
    ")\n",
    "\n",
    "def salvar_silver(df_silver, tabela): \n",
    "    df_silver.write \\\n",
    "        .format(\"delta\") \\\n",
    "        .mode(\"overwrite\") \\\n",
    "        .save(f\"/mnt/{storageAccountName}/silver/{tabela}\")\n",
    "\n",
    "def renomear_colunas(df, tabela):\n",
    "    for coluna in df.columns:\n",
    "        col_format = coluna.upper()\n",
    "        col_format = col_format.replace(\"ID_\", \"CODIGO_\")\n",
    "        col_format = col_format.replace(\"DT_\", \"DATA_\")\n",
    "\n",
    "        df = df.withColumnRenamed(coluna, col_format)\n",
    "    df = df.drop(\"DATA_INSERT_BRONZE\")\n",
    "    df = df.drop(\"FILENAME\")\n",
    "    df = df.withColumn(\"FILENAME_BRONZE\", lit(tabela))\n",
    "    df = df.withColumn(\"DATA_INSERT_SILVER\", current_timestamp())\n",
    "    return df\n",
    "\n",
    "def transformar_corretor():\n",
    "    df_corretor = spark.read.format(\"delta\").load(f\"wasbs://bronze@{storageAccountName}.blob.core.windows.net/corretor\")\n",
    "\n",
    "    df_corretor = df_corretor.withColumn(\"telefone_corretor\", regexp_replace(\"telefone_corretor\", \"[^0-9]\", \"\"))\n",
    "    df_corretor = df_corretor.withColumn(\"telefone_corretor\", col(\"telefone_corretor\").substr(-10, 10))\n",
    "\n",
    "    df = renomear_colunas(df_corretor, \"corretor\")\n",
    "\n",
    "    salvar_silver(df, \"corretor\")\n",
    "\n",
    "def transformar(tabela):\n",
    "    df_bronze = spark.read.format(\"delta\").load(f\"wasbs://bronze@{storageAccountName}.blob.core.windows.net/{tabela}\")\n",
    "    \n",
    "    df = renomear_colunas(df_bronze, tabela)\n",
    "    \n",
    "    salvar_silver(df, tabela)\n",
    "    "
   ]
  },
  {
   "cell_type": "code",
   "execution_count": 0,
   "metadata": {
    "application/vnd.databricks.v1+cell": {
     "cellMetadata": {
      "byteLimit": 2048000,
      "rowLimit": 10000
     },
     "inputWidgets": {},
     "nuid": "7f596d0c-e5b6-4ab5-895a-a139b6d21ebf",
     "showTitle": false,
     "tableResultSettingsMap": {},
     "title": ""
    }
   },
   "outputs": [
    {
     "output_type": "stream",
     "name": "stdout",
     "output_type": "stream",
     "text": [
      "Transformação da tabela: cliente finalizada.\nTransformação da tabela: imovel finalizada.\nTransformação da tabela: cobertura finalizada.\nTransformação da tabela: apolice_seguro finalizada.\nTransformação da tabela: corretor finalizada.\nTransformação da tabela: seguradora finalizada.\n"
     ]
    }
   ],
   "source": [
    "from pyspark.sql import SparkSession\n",
    "\n",
    "spark = SparkSession.builder.appName(\"LeituraDelta\").getOrCreate()\n",
    "\n",
    "storageAccountName = \"datalakea04fb344bd6a3620\"\n",
    "sas_token = \"-\"\n",
    "\n",
    "spark.conf.set(\n",
    "    f\"fs.azure.sas.bronze.{storageAccountName}.blob.core.windows.net\", \n",
    "    sas_token\n",
    ")\n",
    "\n",
    "tables = [\"cliente\", \"imovel\", \"cobertura\", \"apolice_seguro\", \"corretor\", \"seguradora\"]\n",
    "\n",
    "def transformar(table_name):\n",
    "    bronze_path = f\"wasbs://bronze@{storageAccountName}.blob.core.windows.net/{table_name}\"\n",
    "    df = spark.read.format(\"delta\").load(bronze_path)\n",
    "    \n",
    "    silver_path = f\"wasbs://silver@{storageAccountName}.blob.core.windows.net/{table_name}\"\n",
    "    df.write.format(\"delta\").mode(\"overwrite\").save(silver_path)\n",
    "\n",
    "def transformar_corretor():\n",
    "    table_name = \"corretor\"\n",
    "    bronze_path = f\"wasbs://bronze@{storageAccountName}.blob.core.windows.net/{table_name}\"\n",
    "    df = spark.read.format(\"delta\").load(bronze_path)\n",
    "    \n",
    "    silver_path = f\"wasbs://silver@{storageAccountName}.blob.core.windows.net/{table_name}\"\n",
    "    df.write.format(\"delta\").mode(\"overwrite\").save(silver_path)\n",
    "\n",
    "for table in tables:\n",
    "    if table == \"corretor\":\n",
    "        transformar_corretor()\n",
    "    else:\n",
    "        transformar(table)\n",
    "    \n",
    "    print(f\"Transformação da tabela: {table} finalizada.\")\n",
    "\n"
   ]
  },
  {
   "cell_type": "code",
   "execution_count": 0,
   "metadata": {
    "application/vnd.databricks.v1+cell": {
     "cellMetadata": {
      "byteLimit": 2048000,
      "rowLimit": 10000
     },
     "inputWidgets": {},
     "nuid": "3a20ca6b-9f7b-4614-9110-f02bd018aef4",
     "showTitle": false,
     "tableResultSettingsMap": {},
     "title": ""
    }
   },
   "outputs": [
    {
     "output_type": "stream",
     "name": "stdout",
     "output_type": "stream",
     "text": [
      "+-----------+-----------------+---------------+-------------+--------------------+--------------------+--------------------+--------+\n|corretor_id|    nome_corretor|numero_registro|seguradora_id|   telefone_corretor|      email_corretor|    dt_insert_bronze|filename|\n+-----------+-----------------+---------------+-------------+--------------------+--------------------+--------------------+--------+\n|          1| Kimberly Morales|          33974|            1|    001-927-393-4972|lwilliams@example...|2024-12-02 00:04:...|corretor|\n|          2|  Martin Robinson|          19663|            2|  886-467-5470x33309|bakernicholas@exa...|2024-12-02 00:04:...|corretor|\n|          3|   Kathleen Brown|           7971|            3|+1-775-343-5737x6...|kathleenruiz@exam...|2024-12-02 00:04:...|corretor|\n|          4|  Allison Barnett|          94946|            4|       (998)852-0836|robertcrawford@ex...|2024-12-02 00:04:...|corretor|\n|          5|   Michael Ritter|          11991|            5|          7718827739|robertshunter@exa...|2024-12-02 00:04:...|corretor|\n|          6|   Timothy Gordon|          47092|            6|   (351)858-3018x456|howardmichelle@ex...|2024-12-02 00:04:...|corretor|\n|          7|  Jamie Dougherty|          56732|            7|        775-347-8112|stephenknight@exa...|2024-12-02 00:04:...|corretor|\n|          8|     Mary Roberts|          51222|            8|        284-721-7392|collinsbrian@exam...|2024-12-02 00:04:...|corretor|\n|          9|   Richard Murphy|          66223|            9|    215-546-1231x381|moranmegan@exampl...|2024-12-02 00:04:...|corretor|\n|         10|   Eric Fernandez|          89678|           10|          2388847881|garciaandrew@exam...|2024-12-02 00:04:...|corretor|\n|         11|    Heather Allen|          88020|           11|  (582)431-6454x8191|martinjacqueline@...|2024-12-02 00:04:...|corretor|\n|         12|     Maria Taylor|          86994|           12|        525.299.9985|desireewilson@exa...|2024-12-02 00:04:...|corretor|\n|         13| Andrea Gallagher|          38660|           13| (992)860-9612x65288| vhaynes@example.net|2024-12-02 00:04:...|corretor|\n|         14|      Joseph Boyd|          83712|           14|   251.593.4592x1451|waltersdebra@exam...|2024-12-02 00:04:...|corretor|\n|         15|      Eric Wright|          21544|           15|        949.875.2041|waltermichelle@ex...|2024-12-02 00:04:...|corretor|\n|         16|  Danielle George|           3573|           16|  623.859.6292x54463|gavinmartinez@exa...|2024-12-02 00:04:...|corretor|\n|         17|      Lisa Wilson|           7701|           17|001-855-677-6395x446|kathleenedwards@e...|2024-12-02 00:04:...|corretor|\n|         18|  Russell Farrell|          71291|           18|001-823-206-4927x...|zacharyhoward@exa...|2024-12-02 00:04:...|corretor|\n|         19|       Jill White|          39533|           19|  857-592-2329x00983|michael12@example...|2024-12-02 00:04:...|corretor|\n|         20|Samantha Reynolds|          98008|           20|001-756-878-5276x...|shaffermaureen@ex...|2024-12-02 00:04:...|corretor|\n+-----------+-----------------+---------------+-------------+--------------------+--------------------+--------------------+--------+\nonly showing top 20 rows\n\n"
     ]
    }
   ],
   "source": [
    "from pyspark.sql import SparkSession\n",
    "\n",
    "spark = SparkSession.builder.appName(\"LeituraDelta\").getOrCreate()\n",
    "\n",
    "storageAccountName = \"datalakea04fb344bd6a3620\"\n",
    "sas_token = \"-\"\n",
    "\n",
    "spark.conf.set(\n",
    "    f\"fs.azure.sas.silver.{storageAccountName}.blob.core.windows.net\",\n",
    "    sas_token\n",
    ")\n",
    "\n",
    "table_name = \"corretor\"\n",
    "silver_path = f\"wasbs://silver@{storageAccountName}.blob.core.windows.net/{table_name}\"\n",
    "\n",
    "df = spark.read.format(\"delta\").load(silver_path)\n",
    "\n",
    "df.show()\n"
   ]
  }
 ],
 "metadata": {
  "application/vnd.databricks.v1+notebook": {
   "dashboards": [],
   "environmentMetadata": {
    "base_environment": "",
    "client": "1"
   },
   "language": "python",
   "notebookMetadata": {
    "pythonIndentUnit": 4
   },
   "notebookName": "Silver",
   "widgets": {}
  },
  "language_info": {
   "name": "python"
  }
 },
 "nbformat": 4,
 "nbformat_minor": 0
}
