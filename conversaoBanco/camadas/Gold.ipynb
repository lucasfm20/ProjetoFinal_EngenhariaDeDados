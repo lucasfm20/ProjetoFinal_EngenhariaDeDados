{
 "cells": [
  {
   "cell_type": "code",
   "execution_count": 0,
   "metadata": {
    "application/vnd.databricks.v1+cell": {
     "cellMetadata": {
      "byteLimit": 2048000,
      "rowLimit": 10000
     },
     "inputWidgets": {},
     "nuid": "db933b71-bfdd-482a-8cdc-92fd452657c5",
     "showTitle": false,
     "tableResultSettingsMap": {},
     "title": ""
    }
   },
   "outputs": [
    {
     "name": "stdout",
     "output_type": "stream",
     "text": [
      "Arquivo clientes.csv movido para a Gold Zone.\n",
      "Arquivo imovel.csv movido para a Gold Zone.\n",
      "Arquivo cobertura.csv movido para a Gold Zone.\n",
      "Arquivo apoliceseguro.csv movido para a Gold Zone.\n",
      "Arquivo corretor.csv movido para a Gold Zone.\n",
      "Arquivo seguradora.csv movido para a Gold Zone.\n"
     ]
    }
   ],
   "source": [
    "# Gold-zone\n",
    "from azure.storage.blob import BlobServiceClient\n",
    "from azure.core.exceptions import AzureError\n",
    "\n",
    "\n",
    "azure_connection_string = \"DefaultEndpointsProtocol=https;AccountName=datalakea04fb344bd6a3620;AccountKey=A34ScnKfIF7RVIEA3FiPD80PSQMi56XtrozPHuiXhOPlb4C/J3jXoSHRNCmqjhjt+nqjtoWevEhk+ASt3Ehffg==;EndpointSuffix=core.windows.net\"\n",
    "\n",
    "\n",
    "silver_container_name = \"silver\"\n",
    "gold_container_name = \"gold\"\n",
    "\n",
    "\n",
    "blob_service_client = BlobServiceClient.from_connection_string(azure_connection_string)\n",
    "\n",
    "\n",
    "def copy_to_gold(file_name):\n",
    "    try:\n",
    "        \n",
    "        source_blob = blob_service_client.get_blob_client(container=silver_container_name, blob=file_name)\n",
    "\n",
    "        \n",
    "        target_blob = blob_service_client.get_blob_client(container=gold_container_name, blob=file_name)\n",
    "\n",
    "        \n",
    "        target_blob.start_copy_from_url(source_blob.url)\n",
    "        print(f\"Arquivo {file_name} movido para a Gold Zone.\")\n",
    "    except AzureError as e:\n",
    "        print(f\"Ocorreu um erro ao mover o arquivo para a Gold Zone: {e}\")\n",
    "\n",
    "\n",
    "files_to_process = [\n",
    "    \"clientes.csv\",\n",
    "    \"imovel.csv\",\n",
    "    \"cobertura.csv\",\n",
    "    \"apoliceseguro.csv\",\n",
    "    \"corretor.csv\",\n",
    "    \"seguradora.csv\"\n",
    "]\n",
    "\n",
    "\n",
    "for file_name in files_to_process:\n",
    "    copy_to_gold(file_name)"
   ]
  },
  {
   "cell_type": "code",
   "execution_count": 0,
   "metadata": {
    "application/vnd.databricks.v1+cell": {
     "cellMetadata": {
      "byteLimit": 2048000,
      "rowLimit": 10000
     },
     "inputWidgets": {},
     "nuid": "61b191a7-a2cd-47bf-ac4c-b7034b77a683",
     "showTitle": false,
     "tableResultSettingsMap": {},
     "title": ""
    }
   },
   "outputs": [
    {
     "name": "stdout",
     "output_type": "stream",
     "text": [
      "Processando tabela: cliente\n",
      "Tabela cliente lida com sucesso da camada Silver.\n",
      "Tabela cliente salva com sucesso na camada Gold.\n",
      "Processando tabela: imovel\n",
      "Tabela imovel lida com sucesso da camada Silver.\n",
      "Tabela imovel salva com sucesso na camada Gold.\n",
      "Processando tabela: cobertura\n",
      "Tabela cobertura lida com sucesso da camada Silver.\n",
      "Tabela cobertura salva com sucesso na camada Gold.\n",
      "Processando tabela: apolice_seguro\n",
      "Tabela apolice_seguro lida com sucesso da camada Silver.\n",
      "Tabela apolice_seguro salva com sucesso na camada Gold.\n",
      "Processando tabela: seguradora\n",
      "Tabela seguradora lida com sucesso da camada Silver.\n",
      "Tabela seguradora salva com sucesso na camada Gold.\n",
      "Processamento Silver -> Gold finalizado com sucesso!\n"
     ]
    }
   ],
   "source": [
    "from pyspark.sql import SparkSession\n",
    "\n",
    "# Inicializar SparkSession\n",
    "spark = SparkSession.builder.appName(\"SilverToGold\").getOrCreate()\n",
    "\n",
    "# Configurações de armazenamento Azure\n",
    "storage_account_name = \"datalakea04fb344bd6a3620\"\n",
    "sas_token = (\n",
    "    \"sv=2022-11-02&ss=bfqt&srt=sco&sp=rwdlacupyx&se=2024-12-30T08:01:27Z&\"\n",
    "    \"st=2024-12-02T00:01:27Z&spr=https&sig=2yF996fA%2FS1HCzmNIIU73E5%2BWcQ9pnKYzWfCzioZMzo%3D\"\n",
    ")\n",
    "\n",
    "# Configurar acesso ao Azure Data Lake\n",
    "spark.conf.set(\n",
    "    f\"fs.azure.sas.silver.{storage_account_name}.blob.core.windows.net\",\n",
    "    sas_token\n",
    ")\n",
    "spark.conf.set(\n",
    "    f\"fs.azure.sas.gold.{storage_account_name}.blob.core.windows.net\",\n",
    "    sas_token\n",
    ")\n",
    "\n",
    "# Caminhos de entrada e saída\n",
    "silver_path = f\"wasbs://silver@{storage_account_name}.blob.core.windows.net\"\n",
    "gold_path = f\"wasbs://gold@{storage_account_name}.blob.core.windows.net\"\n",
    "\n",
    "# Tabelas a serem processadas\n",
    "tables = [\"cliente\", \"imovel\", \"cobertura\", \"apolice_seguro\", \"seguradora\"]\n",
    "\n",
    "# Função para processar uma tabela\n",
    "def process_table(table_name):\n",
    "    print(f\"Processando tabela: {table_name}\")\n",
    "    try:\n",
    "        # Leitura da camada Silver\n",
    "        df = spark.read.format(\"delta\").load(f\"{silver_path}/{table_name}\")\n",
    "        print(f\"Tabela {table_name} lida com sucesso da camada Silver.\")\n",
    "        \n",
    "        # Escrita na camada Gold\n",
    "        df.write.format(\"delta\").mode(\"overwrite\").save(f\"{gold_path}/{table_name}\")\n",
    "        print(f\"Tabela {table_name} salva com sucesso na camada Gold.\")\n",
    "    except Exception as e:\n",
    "        print(f\"Erro ao processar a tabela {table_name}: {e}\")\n",
    "\n",
    "# Processar todas as tabelas\n",
    "for table in tables:\n",
    "    process_table(table)\n",
    "\n",
    "print(\"Processamento Silver -> Gold finalizado com sucesso!\")\n"
   ]
  },
  {
   "cell_type": "code",
   "execution_count": 0,
   "metadata": {
    "application/vnd.databricks.v1+cell": {
     "cellMetadata": {
      "byteLimit": 2048000,
      "implicitDf": true,
      "rowLimit": 10000
     },
     "inputWidgets": {},
     "nuid": "a1791691-6f8c-429b-9f72-7bf04ba32549",
     "showTitle": false,
     "tableResultSettingsMap": {},
     "title": ""
    }
   },
   "outputs": [
    {
     "data": {
      "text/html": [
       "<style scoped>\n",
       "  .table-result-container {\n",
       "    max-height: 300px;\n",
       "    overflow: auto;\n",
       "  }\n",
       "  table, th, td {\n",
       "    border: 1px solid black;\n",
       "    border-collapse: collapse;\n",
       "  }\n",
       "  th, td {\n",
       "    padding: 5px;\n",
       "  }\n",
       "  th {\n",
       "    text-align: left;\n",
       "  }\n",
       "</style><div class='table-result-container'><table class='table-result'><thead style='background-color: white'><tr></tr></thead><tbody></tbody></table></div>"
      ]
     },
     "metadata": {
      "application/vnd.databricks.v1+output": {
       "addedWidgets": {},
       "aggData": [],
       "aggError": "",
       "aggOverflow": false,
       "aggSchema": [],
       "aggSeriesLimitReached": false,
       "aggType": "",
       "arguments": {},
       "columnCustomDisplayInfos": {},
       "data": [],
       "datasetInfos": [],
       "dbfsResultPath": null,
       "isJsonSchema": true,
       "metadata": {
        "dataframeName": null
       },
       "overflow": false,
       "plotOptions": {
        "customPlotOptions": {},
        "displayType": "table",
        "pivotAggregation": null,
        "pivotColumns": null,
        "xColumns": null,
        "yColumns": null
       },
       "removedWidgets": [],
       "schema": [],
       "type": "table"
      }
     },
     "output_type": "display_data"
    }
   ],
   "source": [
    "%sql\n",
    "CREATE TABLE IF NOT EXISTS datalakea04fb344bd6a3620_obt (\n",
    "    ano INT,\n",
    "    mes VARCHAR(10),\n",
    "    valor_total_das_apolices NUMERIC(38, 2) NOT NULL,\n",
    "    total_de_ativos NUMERIC(38, 2) NOT NULL,\n",
    "    total_de_passivos NUMERIC(38, 2) NOT NULL,\n",
    "    numero_total_de_imoveis INT NOT NULL,\n",
    "    apolices_finalizadas INT NOT NULL,\n",
    "    numero_de_sinistros INT NOT NULL,\n",
    "    numero_de_apolices_vendidas INT NOT NULL,\n",
    "    valor_medio_de_premio NUMERIC(38, 6) NOT NULL,\n",
    "    corretor_id INT, \n",
    "    seguradora_id INT, \n",
    "    cobertura_id INT\n",
    ");\n"
   ]
  },
  {
   "cell_type": "code",
   "execution_count": 0,
   "metadata": {
    "application/vnd.databricks.v1+cell": {
     "cellMetadata": {
      "byteLimit": 2048000,
      "rowLimit": 10000
     },
     "inputWidgets": {},
     "nuid": "e9faa27c-1cfb-4c88-adc2-565270b04a4f",
     "showTitle": false,
     "tableResultSettingsMap": {},
     "title": ""
    }
   },
   "outputs": [
    {
     "name": "stdout",
     "output_type": "stream",
     "text": [
      "+----------+----------+---------+-------------+-----------+-----------+------------+\n",
      "|apolice_id|cliente_id|imovel_id|seguradora_id|corretor_id|data_inicio|data_termino|\n",
      "+----------+----------+---------+-------------+-----------+-----------+------------+\n",
      "|         1|         1|        1|            1|          1| 2022-09-13|  2022-06-20|\n",
      "|         2|         2|        2|            2|          2| 2023-09-15|  2023-07-28|\n",
      "|         3|         3|        3|            3|          3| 2023-02-20|  2024-04-22|\n",
      "|         4|         4|        4|            4|          4| 2021-12-31|  2023-05-08|\n",
      "|         5|         5|        5|            5|          5| 2022-01-12|  2024-01-06|\n",
      "|         6|         6|        6|            6|          6| 2024-03-30|  2024-09-12|\n",
      "|         7|         7|        7|            7|          7| 2023-12-26|  2023-10-19|\n",
      "|         8|         8|        8|            8|          8| 2024-10-04|  2024-08-10|\n",
      "|         9|         9|        9|            9|          9| 2022-05-09|  2024-05-31|\n",
      "|        10|        10|       10|           10|         10| 2023-12-17|  2022-03-31|\n",
      "|        11|        11|       11|           11|         11| 2021-11-28|  2024-01-22|\n",
      "|        12|        12|       12|           12|         12| 2023-05-06|  2022-06-22|\n",
      "|        13|        13|       13|           13|         13| 2024-10-01|  2023-11-22|\n",
      "|        14|        14|       14|           14|         14| 2023-07-18|  2023-08-24|\n",
      "|        15|        15|       15|           15|         15| 2023-07-28|  2023-10-28|\n",
      "|        16|        16|       16|           16|         16| 2024-07-31|  2023-09-13|\n",
      "|        17|        17|       17|           17|         17| 2022-04-20|  2024-01-04|\n",
      "|        18|        18|       18|           18|         18| 2023-06-03|  2024-01-15|\n",
      "|        19|        19|       19|           19|         19| 2024-06-06|  2024-07-01|\n",
      "|        20|        20|       20|           20|         20| 2022-12-14|  2023-06-14|\n",
      "+----------+----------+---------+-------------+-----------+-----------+------------+\n",
      "only showing top 20 rows\n",
      "\n",
      "+------------------+--------------------+--------------------+--------------------+--------------------+\n",
      "|        cliente_id|        nome_cliente|    endereco_cliente|    telefone_cliente|       email_cliente|\n",
      "+------------------+--------------------+--------------------+--------------------+--------------------+\n",
      "|                 1|       Steven Conrad|069 Courtney Corn...|    001-339-461-4007|austin66@example.com|\n",
      "|                 2|        Brandi Mason|7934 Mcdowell For...|                NULL|                NULL|\n",
      "| West Matthewhaven|           NE 99893\"|001-617-824-3623x...| klawson@example.org|                NULL|\n",
      "|                 3|       Spencer Jones|2688 Phillips Tra...|                NULL|                NULL|\n",
      "|        East Helen|           AS 20445\"|  (971)396-3288x1951|michele99@example...|                NULL|\n",
      "|                 4|       Kelsey Horton|910 Schmidt Passa...|                NULL|                NULL|\n",
      "|      New Toddport|           TN 02554\"|001-302-389-0867x...|taylorjesse@examp...|                NULL|\n",
      "|                 5|    Samantha Gilbert|9420 Cross Island...|                NULL|                NULL|\n",
      "|South Heathermouth|           AR 75529\"|  943-498-3416x18279|jhancock@example.net|                NULL|\n",
      "|                 6|      David Robinson|0221 Kevin Lodge ...|                NULL|                NULL|\n",
      "|           Raytown|           VT 37721\"|    895.302.5622x044|aprilmoss@example...|                NULL|\n",
      "|                 7|       Michael Hayes| 97805 Boyd Radial\\n|                NULL|                NULL|\n",
      "|         Lake Lori|           FL 56733\"|001-286-565-4665x...| dylan90@example.com|                NULL|\n",
      "|                 8|       Michael Mejia|614 Katie Cove Ap...|                NULL|                NULL|\n",
      "|        Walkerfurt|           NV 47279\"|   277.327.1782x2995|mercadojohnny@exa...|                NULL|\n",
      "|                 9|     Jonathan Mendez|Unit 8964 Box 6911\\n|                NULL|                NULL|\n",
      "|     DPO AE 96720\"|001-364-916-1729x...| parnold@example.com|                NULL|                NULL|\n",
      "|                10|        Melissa Wolf|285 Barrett Ports...|                NULL|                NULL|\n",
      "|  East Jessicatown|           WY 93669\"|       (904)477-3952|kimberlyrivera@ex...|                NULL|\n",
      "|                11|       David Stevens|864 Christine Str...|                NULL|                NULL|\n",
      "+------------------+--------------------+--------------------+--------------------+--------------------+\n",
      "only showing top 20 rows\n",
      "\n",
      "+------------+--------------------+------+------------------+-------------+-----------+\n",
      "|cobertura_id|           descricao|premio|limite_indenizacao|seguradora_id|obrigatorio|\n",
      "+------------+--------------------+------+------------------+-------------+-----------+\n",
      "|           1|Relationship cost...|1743.0|           43009.0|            1|      False|\n",
      "|           2|Everyone carry le...|8930.0|           58782.0|            2|      False|\n",
      "|           3|Congress cup sign...|2062.0|            4304.0|            3|       True|\n",
      "|           4|Worker hard baby ...|2086.0|           69797.0|            4|       True|\n",
      "|           5|Natural garden se...|5612.0|           53418.0|            5|       True|\n",
      "|           6|Major several dis...|9075.0|           21374.0|            6|      False|\n",
      "|           7|Land position sto...| 167.0|           11289.0|            7|      False|\n",
      "|           8|Say sure garden c...| 208.0|            9891.0|            8|       True|\n",
      "|           9|Executive woman p...| 981.0|           60181.0|            9|      False|\n",
      "|          10|Team production t...|7635.0|           93483.0|           10|       True|\n",
      "|          11|Pretty two room o...|7867.0|            7985.0|           11|      False|\n",
      "|          12|Shoulder clearly ...|1605.0|           61920.0|           12|       True|\n",
      "|          13|Pattern free buil...|1295.0|           51290.0|           13|       True|\n",
      "|          14|Or art whether cl...| 619.0|           89901.0|           14|      False|\n",
      "|          15|Adult change majo...| 863.0|           62004.0|           15|       True|\n",
      "|          16|Cut time accordin...|5784.0|           37657.0|           16|      False|\n",
      "|          17|Contain head laug...|2738.0|           10524.0|           17|      False|\n",
      "|          18|West early site a...|4629.0|           34757.0|           18|       True|\n",
      "|          19|Job expect includ...|7974.0|           13375.0|           19|       True|\n",
      "|          20|When open full ya...|3896.0|           91704.0|           20|       True|\n",
      "+------------+--------------------+------+------------------+-------------+-----------+\n",
      "only showing top 20 rows\n",
      "\n",
      "+-----------+-----------------+---------------+-------------+--------------------+--------------------+\n",
      "|corretor_id|    nome_corretor|numero_registro|seguradora_id|   telefone_corretor|      email_corretor|\n",
      "+-----------+-----------------+---------------+-------------+--------------------+--------------------+\n",
      "|          1| Kimberly Morales|          33974|            1|    001-927-393-4972|lwilliams@example...|\n",
      "|          2|  Martin Robinson|          19663|            2|  886-467-5470x33309|bakernicholas@exa...|\n",
      "|          3|   Kathleen Brown|           7971|            3|+1-775-343-5737x6...|kathleenruiz@exam...|\n",
      "|          4|  Allison Barnett|          94946|            4|       (998)852-0836|robertcrawford@ex...|\n",
      "|          5|   Michael Ritter|          11991|            5|          7718827739|robertshunter@exa...|\n",
      "|          6|   Timothy Gordon|          47092|            6|   (351)858-3018x456|howardmichelle@ex...|\n",
      "|          7|  Jamie Dougherty|          56732|            7|        775-347-8112|stephenknight@exa...|\n",
      "|          8|     Mary Roberts|          51222|            8|        284-721-7392|collinsbrian@exam...|\n",
      "|          9|   Richard Murphy|          66223|            9|    215-546-1231x381|moranmegan@exampl...|\n",
      "|         10|   Eric Fernandez|          89678|           10|          2388847881|garciaandrew@exam...|\n",
      "|         11|    Heather Allen|          88020|           11|  (582)431-6454x8191|martinjacqueline@...|\n",
      "|         12|     Maria Taylor|          86994|           12|        525.299.9985|desireewilson@exa...|\n",
      "|         13| Andrea Gallagher|          38660|           13| (992)860-9612x65288| vhaynes@example.net|\n",
      "|         14|      Joseph Boyd|          83712|           14|   251.593.4592x1451|waltersdebra@exam...|\n",
      "|         15|      Eric Wright|          21544|           15|        949.875.2041|waltermichelle@ex...|\n",
      "|         16|  Danielle George|           3573|           16|  623.859.6292x54463|gavinmartinez@exa...|\n",
      "|         17|      Lisa Wilson|           7701|           17|001-855-677-6395x446|kathleenedwards@e...|\n",
      "|         18|  Russell Farrell|          71291|           18|001-823-206-4927x...|zacharyhoward@exa...|\n",
      "|         19|       Jill White|          39533|           19|  857-592-2329x00983|michael12@example...|\n",
      "|         20|Samantha Reynolds|          98008|           20|001-756-878-5276x...|shaffermaureen@ex...|\n",
      "+-----------+-----------------+---------------+-------------+--------------------+--------------------+\n",
      "only showing top 20 rows\n",
      "\n",
      "+------------------+----------+--------------------+-----------+------------+\n",
      "|         imovel_id|cliente_id|     endereco_imovel|tipo_imovel|valor_imovel|\n",
      "+------------------+----------+--------------------+-----------+------------+\n",
      "|                 1|         1|0980 Curtis Garden\\n|       NULL|        NULL|\n",
      "|    Cassandramouth| KS 99516\"|             Sobrado|    99719.0|        NULL|\n",
      "|                 2|         2|6627 Brewer Circle\\n|       NULL|        NULL|\n",
      "|    New Samuelfort| SC 91807\"|             Sobrado|    11453.0|        NULL|\n",
      "|                 3|         3|   5638 Smith Loop\\n|       NULL|        NULL|\n",
      "|        Greeneland| MP 04439\"|                Casa|    69844.0|        NULL|\n",
      "|                 4|         4|904 Dwayne Highway\\n|       NULL|        NULL|\n",
      "|         Sheriside| TX 10354\"|         Apartamento|    90445.0|        NULL|\n",
      "|                 5|         5|778 Stephanie Mis...|       NULL|        NULL|\n",
      "|        Port Tracy| VA 09364\"|             Sobrado|    55030.0|        NULL|\n",
      "|                 6|         6|6719 Katherine Sp...|       NULL|        NULL|\n",
      "|        Martinland| SD 37866\"|         Apartamento|    66905.0|        NULL|\n",
      "|                 7|         7|     3838 Lisa Way\\n|       NULL|        NULL|\n",
      "|        South Kyle| IA 68500\"|         Apartamento|    54641.0|        NULL|\n",
      "|                 8|         8|5948 Zimmerman Ro...|       NULL|        NULL|\n",
      "|Lake Elizabethstad| ME 94178\"|                Casa|    53452.0|        NULL|\n",
      "|                 9|         9|03526 Munoz Expre...|       NULL|        NULL|\n",
      "|        Vargasstad| OR 01713\"|         Apartamento|    81764.0|        NULL|\n",
      "|                10|        10|584 Moon Streets ...|       NULL|        NULL|\n",
      "|        South Adam| ND 52035\"|         Apartamento|    11202.0|        NULL|\n",
      "+------------------+----------+--------------------+-----------+------------+\n",
      "only showing top 20 rows\n",
      "\n",
      "+--------------+--------------------+--------------------+--------------------+----------------+\n",
      "| seguradora_id|     nome_seguradora| endereco_seguradora| telefone_seguradora|email_seguradora|\n",
      "+--------------+--------------------+--------------------+--------------------+----------------+\n",
      "|             1|      Stewart-Nelson|16029 Haley Fields\\n|                NULL|            NULL|\n",
      "|      Maryfurt|           IA 87810\"|    442.917.3277x506|romerodaniel@exam...|            NULL|\n",
      "|             2|Greene, Ellis and...|Unit 3188 Box 8616\\n|                NULL|            NULL|\n",
      "| DPO AP 89055\"|       (985)784-6489|fostereric@exampl...|                NULL|            NULL|\n",
      "|             3|Massey, Best and ...|Unit 3997 Box 9843\\n|                NULL|            NULL|\n",
      "| DPO AP 56311\"|  997.446.4634x53677| traci75@example.net|                NULL|            NULL|\n",
      "|             4|Hughes, Tran and ...| 80123 Leslie Loop\\n|                NULL|            NULL|\n",
      "|    Martinfurt|           IN 98321\"|        917-473-3248|ehampton@example.com|            NULL|\n",
      "|             5|Conrad, Hernandez...|1739 Matthew Prai...|                NULL|            NULL|\n",
      "|    Hughesside|           NM 77964\"|        889-493-5811|  idavis@example.com|            NULL|\n",
      "|             6|  Wilkinson-Roberson|   750 Jimmy Ferry\\n|                NULL|            NULL|\n",
      "|     East Dawn|           GA 79249\"|    458-999-9890x582| kelly56@example.com|            NULL|\n",
      "|             7|        Matthews Inc|      218 Gary Row\\n|                NULL|            NULL|\n",
      "|   New Anafurt|           VI 61817\"|  463-893-9514x87322|reynoldschristoph...|            NULL|\n",
      "|             8|        Olson-Hunter|49959 Bonnie Moun...|                NULL|            NULL|\n",
      "|West Elizabeth|           NE 05164\"|   770-910-0535x1757|jacqueline42@exam...|            NULL|\n",
      "|             9|Bender, Lewis and...|19930 Christopher...|                NULL|            NULL|\n",
      "|    Kevinburgh|           CO 13475\"|  239.323.5884x85391|jordanjennifer@ex...|            NULL|\n",
      "|            10|          Morgan LLC|345 Nicholas Squa...|                NULL|            NULL|\n",
      "|   Raymondtown|           MN 47733\"|        839.541.3136|pjohnson@example.net|            NULL|\n",
      "+--------------+--------------------+--------------------+--------------------+----------------+\n",
      "only showing top 20 rows\n",
      "\n"
     ]
    }
   ],
   "source": [
    "from pyspark.sql import SparkSession\n",
    "\n",
    "spark = SparkSession.builder.appName(\"SilverToGold\").getOrCreate()\n",
    "\n",
    "storage_account_name = \"datalakea04fb344bd6a3620\"\n",
    "sas_token = (\n",
    "    \"sv=2022-11-02&ss=bfqt&srt=sco&sp=rwdlacupyx&se=2024-12-30T08:01:27Z&\"\n",
    "    \"st=2024-12-02T00:01:27Z&spr=https&sig=2yF996fA%2FS1HCzmNIIU73E5%2BWcQ9pnKYzWfCzioZMzo%3D\"\n",
    ")\n",
    "\n",
    "spark.conf.set(\n",
    "    f\"fs.azure.sas.gold.{storage_account_name}.blob.core.windows.net\",\n",
    "    sas_token\n",
    ")\n",
    "\n",
    "gold_path = f\"wasbs://gold@{storage_account_name}.blob.core.windows.net\"\n",
    "\n",
    "apoliceseguro_df = spark.read.option(\"header\", \"true\").csv(f\"{gold_path}/apoliceseguro.csv\")\n",
    "clientes_df = spark.read.option(\"header\", \"true\").csv(f\"{gold_path}/clientes.csv\")\n",
    "cobertura_df = spark.read.option(\"header\", \"true\").csv(f\"{gold_path}/cobertura.csv\")\n",
    "corretor_df = spark.read.option(\"header\", \"true\").csv(f\"{gold_path}/corretor.csv\")\n",
    "imovel_df = spark.read.option(\"header\", \"true\").csv(f\"{gold_path}/imovel.csv\")\n",
    "seguradora_df = spark.read.option(\"header\", \"true\").csv(f\"{gold_path}/seguradora.csv\")\n",
    "\n",
    "apoliceseguro_df.write.format(\"delta\").mode(\"overwrite\").save(f\"{gold_path}/apoliceseguro_delta\")\n",
    "clientes_df.write.format(\"delta\").mode(\"overwrite\").save(f\"{gold_path}/clientes_delta\")\n",
    "cobertura_df.write.format(\"delta\").mode(\"overwrite\").save(f\"{gold_path}/cobertura_delta\")\n",
    "corretor_df.write.format(\"delta\").mode(\"overwrite\").save(f\"{gold_path}/corretor_delta\")\n",
    "imovel_df.write.format(\"delta\").mode(\"overwrite\").save(f\"{gold_path}/imovel_delta\")\n",
    "seguradora_df.write.format(\"delta\").mode(\"overwrite\").save(f\"{gold_path}/seguradora_delta\")\n",
    "\n",
    "apoliceseguro_delta_df = spark.read.format(\"delta\").load(f\"{gold_path}/apoliceseguro_delta\")\n",
    "clientes_delta_df = spark.read.format(\"delta\").load(f\"{gold_path}/clientes_delta\")\n",
    "cobertura_delta_df = spark.read.format(\"delta\").load(f\"{gold_path}/cobertura_delta\")\n",
    "corretor_delta_df = spark.read.format(\"delta\").load(f\"{gold_path}/corretor_delta\")\n",
    "imovel_delta_df = spark.read.format(\"delta\").load(f\"{gold_path}/imovel_delta\")\n",
    "seguradora_delta_df = spark.read.format(\"delta\").load(f\"{gold_path}/seguradora_delta\")\n",
    "\n",
    "apoliceseguro_delta_df.show()\n",
    "clientes_delta_df.show()\n",
    "cobertura_delta_df.show()\n",
    "corretor_delta_df.show()\n",
    "imovel_delta_df.show()\n",
    "seguradora_delta_df.show()\n",
    "\n"
   ]
  },
  {
   "cell_type": "code",
   "execution_count": 0,
   "metadata": {
    "application/vnd.databricks.v1+cell": {
     "cellMetadata": {
      "byteLimit": 2048000,
      "rowLimit": 10000
     },
     "inputWidgets": {},
     "nuid": "a2ebcbed-f033-4d2b-92fa-052a1018b3cd",
     "showTitle": false,
     "tableResultSettingsMap": {},
     "title": ""
    }
   },
   "outputs": [
    {
     "name": "stdout",
     "output_type": "stream",
     "text": [
      "+-------------+---------+-----------+----------+----------+-----------+------------+----------------+--------------------+----------------+--------------------+------------+--------------------+------+------------------+-------------+-----------+-----------------+---------------+-------------+--------------------+--------------------+----------+--------------------+-----------+------------+--------------------+--------------------+-------------------+----------------+\n",
      "|seguradora_id|imovel_id|corretor_id|cliente_id|apolice_id|data_inicio|data_termino|    nome_cliente|    endereco_cliente|telefone_cliente|       email_cliente|cobertura_id|           descricao|premio|limite_indenizacao|seguradora_id|obrigatorio|    nome_corretor|numero_registro|seguradora_id|   telefone_corretor|      email_corretor|cliente_id|     endereco_imovel|tipo_imovel|valor_imovel|     nome_seguradora| endereco_seguradora|telefone_seguradora|email_seguradora|\n",
      "+-------------+---------+-----------+----------+----------+-----------+------------+----------------+--------------------+----------------+--------------------+------------+--------------------+------+------------------+-------------+-----------+-----------------+---------------+-------------+--------------------+--------------------+----------+--------------------+-----------+------------+--------------------+--------------------+-------------------+----------------+\n",
      "|            1|        1|          1|         1|         1| 2022-09-13|  2022-06-20|   Steven Conrad|069 Courtney Corn...|001-339-461-4007|austin66@example.com|           1|Relationship cost...|1743.0|           43009.0|            1|      False| Kimberly Morales|          33974|            1|    001-927-393-4972|lwilliams@example...|         1|0980 Curtis Garden\\n|       NULL|        NULL|      Stewart-Nelson|16029 Haley Fields\\n|               NULL|            NULL|\n",
      "|            2|        2|          2|         2|         2| 2023-09-15|  2023-07-28|    Brandi Mason|7934 Mcdowell For...|            NULL|                NULL|           2|Everyone carry le...|8930.0|           58782.0|            2|      False|  Martin Robinson|          19663|            2|  886-467-5470x33309|bakernicholas@exa...|         2|6627 Brewer Circle\\n|       NULL|        NULL|Greene, Ellis and...|Unit 3188 Box 8616\\n|               NULL|            NULL|\n",
      "|            3|        3|          3|         3|         3| 2023-02-20|  2024-04-22|   Spencer Jones|2688 Phillips Tra...|            NULL|                NULL|           3|Congress cup sign...|2062.0|            4304.0|            3|       True|   Kathleen Brown|           7971|            3|+1-775-343-5737x6...|kathleenruiz@exam...|         3|   5638 Smith Loop\\n|       NULL|        NULL|Massey, Best and ...|Unit 3997 Box 9843\\n|               NULL|            NULL|\n",
      "|            4|        4|          4|         4|         4| 2021-12-31|  2023-05-08|   Kelsey Horton|910 Schmidt Passa...|            NULL|                NULL|           4|Worker hard baby ...|2086.0|           69797.0|            4|       True|  Allison Barnett|          94946|            4|       (998)852-0836|robertcrawford@ex...|         4|904 Dwayne Highway\\n|       NULL|        NULL|Hughes, Tran and ...| 80123 Leslie Loop\\n|               NULL|            NULL|\n",
      "|            5|        5|          5|         5|         5| 2022-01-12|  2024-01-06|Samantha Gilbert|9420 Cross Island...|            NULL|                NULL|           5|Natural garden se...|5612.0|           53418.0|            5|       True|   Michael Ritter|          11991|            5|          7718827739|robertshunter@exa...|         5|778 Stephanie Mis...|       NULL|        NULL|Conrad, Hernandez...|1739 Matthew Prai...|               NULL|            NULL|\n",
      "|            6|        6|          6|         6|         6| 2024-03-30|  2024-09-12|  David Robinson|0221 Kevin Lodge ...|            NULL|                NULL|           6|Major several dis...|9075.0|           21374.0|            6|      False|   Timothy Gordon|          47092|            6|   (351)858-3018x456|howardmichelle@ex...|         6|6719 Katherine Sp...|       NULL|        NULL|  Wilkinson-Roberson|   750 Jimmy Ferry\\n|               NULL|            NULL|\n",
      "|            7|        7|          7|         7|         7| 2023-12-26|  2023-10-19|   Michael Hayes| 97805 Boyd Radial\\n|            NULL|                NULL|           7|Land position sto...| 167.0|           11289.0|            7|      False|  Jamie Dougherty|          56732|            7|        775-347-8112|stephenknight@exa...|         7|     3838 Lisa Way\\n|       NULL|        NULL|        Matthews Inc|      218 Gary Row\\n|               NULL|            NULL|\n",
      "|            8|        8|          8|         8|         8| 2024-10-04|  2024-08-10|   Michael Mejia|614 Katie Cove Ap...|            NULL|                NULL|           8|Say sure garden c...| 208.0|            9891.0|            8|       True|     Mary Roberts|          51222|            8|        284-721-7392|collinsbrian@exam...|         8|5948 Zimmerman Ro...|       NULL|        NULL|        Olson-Hunter|49959 Bonnie Moun...|               NULL|            NULL|\n",
      "|            9|        9|          9|         9|         9| 2022-05-09|  2024-05-31| Jonathan Mendez|Unit 8964 Box 6911\\n|            NULL|                NULL|           9|Executive woman p...| 981.0|           60181.0|            9|      False|   Richard Murphy|          66223|            9|    215-546-1231x381|moranmegan@exampl...|         9|03526 Munoz Expre...|       NULL|        NULL|Bender, Lewis and...|19930 Christopher...|               NULL|            NULL|\n",
      "|           10|       10|         10|        10|        10| 2023-12-17|  2022-03-31|    Melissa Wolf|285 Barrett Ports...|            NULL|                NULL|          10|Team production t...|7635.0|           93483.0|           10|       True|   Eric Fernandez|          89678|           10|          2388847881|garciaandrew@exam...|        10|584 Moon Streets ...|       NULL|        NULL|          Morgan LLC|345 Nicholas Squa...|               NULL|            NULL|\n",
      "|           11|       11|         11|        11|        11| 2021-11-28|  2024-01-22|   David Stevens|864 Christine Str...|            NULL|                NULL|          11|Pretty two room o...|7867.0|            7985.0|           11|      False|    Heather Allen|          88020|           11|  (582)431-6454x8191|martinjacqueline@...|        11|2389 Adam Lock Su...|       NULL|        NULL|        Lester-Brown| 26357 Marcus Fall\\n|               NULL|            NULL|\n",
      "|           12|       12|         12|        12|        12| 2023-05-06|  2022-06-22| Michelle Bryant|PSC 0101, Box 7705\\n|            NULL|                NULL|          12|Shoulder clearly ...|1605.0|           61920.0|           12|       True|     Maria Taylor|          86994|           12|        525.299.9985|desireewilson@exa...|        12|  215 Davis Stream\\n|       NULL|        NULL|         Johnson Ltd|9185 Mitchell Roa...|               NULL|            NULL|\n",
      "|           13|       13|         13|        13|        13| 2024-10-01|  2023-11-22|    Daniel Perez|8049 Thomas Loaf ...|            NULL|                NULL|          13|Pattern free buil...|1295.0|           51290.0|           13|       True| Andrea Gallagher|          38660|           13| (992)860-9612x65288| vhaynes@example.net|        13|02033 Kimberly Rue\\n|       NULL|        NULL|      Price-Peterson| 29653 Angela Neck\\n|               NULL|            NULL|\n",
      "|           14|       14|         14|        14|        14| 2023-07-18|  2023-08-24|       Kim Smith|727 Andrew Mounta...|            NULL|                NULL|          14|Or art whether cl...| 619.0|           89901.0|           14|      False|      Joseph Boyd|          83712|           14|   251.593.4592x1451|waltersdebra@exam...|        14|048 Huffman Camp ...|       NULL|        NULL|      Cervantes-Ruiz|        USCGC Tran\\n|               NULL|            NULL|\n",
      "|           15|       15|         15|        15|        15| 2023-07-28|  2023-10-28|  Barry Williams|1344 Jose Motorway\\n|            NULL|                NULL|          15|Adult change majo...| 863.0|           62004.0|           15|       True|      Eric Wright|          21544|           15|        949.875.2041|waltermichelle@ex...|        15|Unit 3983 Box 6616\\n|       NULL|        NULL|        Lopez-Miller|2604 Jonathan Gro...|               NULL|            NULL|\n",
      "|           16|       16|         16|        16|        16| 2024-07-31|  2023-09-13|     Amanda Love|81062 Lee Gateway...|            NULL|                NULL|          16|Cut time accordin...|5784.0|           37657.0|           16|      False|  Danielle George|           3573|           16|  623.859.6292x54463|gavinmartinez@exa...|        16|19315 Edwards Cen...|       NULL|        NULL|Crawford, Johnson...|56278 Thomas Squa...|               NULL|            NULL|\n",
      "|           17|       17|         17|        17|        17| 2022-04-20|  2024-01-04|   Jennifer Cook|5680 Jessica Ridg...|            NULL|                NULL|          17|Contain head laug...|2738.0|           10524.0|           17|      False|      Lisa Wilson|           7701|           17|001-855-677-6395x446|kathleenedwards@e...|        17|815 Peterson Trai...|       NULL|        NULL|Nelson, James and...|9214 Matthew Mano...|               NULL|            NULL|\n",
      "|           18|       18|         18|        18|        18| 2023-06-03|  2024-01-15|    Lauren Perez|933 Lorraine Turn...|            NULL|                NULL|          18|West early site a...|4629.0|           34757.0|           18|       True|  Russell Farrell|          71291|           18|001-823-206-4927x...|zacharyhoward@exa...|        18|296 Smith Crossro...|       NULL|        NULL|Haynes, Ramirez a...|440 Phillips Cres...|               NULL|            NULL|\n",
      "|           19|       19|         19|        19|        19| 2024-06-06|  2024-07-01|      Jack Fritz|939 Ian Point Apt...|            NULL|                NULL|          19|Job expect includ...|7974.0|           13375.0|           19|       True|       Jill White|          39533|           19|  857-592-2329x00983|michael12@example...|        19|   9798 Davis View\\n|       NULL|        NULL|Potts, Jones and ...|6868 Campbell Gre...|               NULL|            NULL|\n",
      "|           20|       20|         20|        20|        20| 2022-12-14|  2023-06-14|   Jesse Gilbert|89711 Guerrero Co...|            NULL|                NULL|          20|When open full ya...|3896.0|           91704.0|           20|       True|Samantha Reynolds|          98008|           20|001-756-878-5276x...|shaffermaureen@ex...|        20|378 Robert Estate...|       NULL|        NULL|         Pierce-Hull|  640 Robert Locks\\n|               NULL|            NULL|\n",
      "+-------------+---------+-----------+----------+----------+-----------+------------+----------------+--------------------+----------------+--------------------+------------+--------------------+------+------------------+-------------+-----------+-----------------+---------------+-------------+--------------------+--------------------+----------+--------------------+-----------+------------+--------------------+--------------------+-------------------+----------------+\n",
      "only showing top 20 rows\n",
      "\n"
     ]
    }
   ],
   "source": [
    "\n",
    "final_df = apoliceseguro_delta_df \\\n",
    "    .join(clientes_delta_df, \"cliente_id\") \\\n",
    "    .join(cobertura_delta_df, apoliceseguro_delta_df[\"seguradora_id\"] == cobertura_delta_df[\"seguradora_id\"]) \\\n",
    "    .join(corretor_delta_df, \"corretor_id\") \\\n",
    "    .join(imovel_delta_df, \"imovel_id\") \\\n",
    "    .join(seguradora_delta_df, \"seguradora_id\")\n",
    "\n",
    "final_df.show()\n"
   ]
  },
  {
   "cell_type": "code",
   "execution_count": 0,
   "metadata": {
    "application/vnd.databricks.v1+cell": {
     "cellMetadata": {
      "byteLimit": 2048000,
      "rowLimit": 10000
     },
     "inputWidgets": {},
     "nuid": "57016e7d-7bbd-4dba-aff0-a0c9e66bd056",
     "showTitle": false,
     "tableResultSettingsMap": {},
     "title": ""
    }
   },
   "outputs": [],
   "source": [
    "from pyspark.sql import functions as F\n",
    "\n",
    "# Adicionando alias para os DataFrames para evitar ambiguidade\n",
    "resultado_df = apoliceseguro_delta_df.alias('apoliceseguro') \\\n",
    "    .join(clientes_delta_df.alias('clientes'), \"cliente_id\") \\\n",
    "    .join(cobertura_delta_df.alias('cobertura'), \"seguradora_id\") \\\n",
    "    .join(corretor_delta_df.alias('corretor'), \"corretor_id\") \\\n",
    "    .join(imovel_delta_df.alias('imovel'), \"imovel_id\") \\\n",
    "    .join(seguradora_delta_df.alias('seguradora'), \"seguradora_id\") \\\n",
    "    .withColumn(\"ano\", F.year(\"apoliceseguro.data_inicio\")) \\\n",
    "    .withColumn(\"mes\", F.month(\"apoliceseguro.data_inicio\")) \\\n",
    "    .groupBy(\"ano\", \"mes\") \\\n",
    "    .agg(\n",
    "        F.count(\"imovel.imovel_id\").alias(\"numero_total_de_imoveis\"),\n",
    "        F.count(\"apoliceseguro.apolice_id\").alias(\"apolices_finalizadas\"),\n",
    "        F.avg(\"cobertura.premio\").alias(\"valor_medio_de_premio\")\n",
    "    )\n"
   ]
  },
  {
   "cell_type": "code",
   "execution_count": 0,
   "metadata": {
    "application/vnd.databricks.v1+cell": {
     "cellMetadata": {
      "byteLimit": 2048000,
      "rowLimit": 10000
     },
     "inputWidgets": {},
     "nuid": "c710628c-0ded-43a7-9a54-2e0a08bc27de",
     "showTitle": false,
     "tableResultSettingsMap": {},
     "title": ""
    }
   },
   "outputs": [
    {
     "name": "stdout",
     "output_type": "stream",
     "text": [
      "+----+---+-----------------------+--------------------+---------------------+\n",
      "| ano|mes|numero_total_de_imoveis|apolices_finalizadas|valor_medio_de_premio|\n",
      "+----+---+-----------------------+--------------------+---------------------+\n",
      "|2022| 10|                    238|                 238|    4938.088235294118|\n",
      "|2024|  7|                    279|                 279|     5070.79211469534|\n",
      "|2023|  9|                    258|                 258|    5122.763565891473|\n",
      "|2023|  8|                    269|                 269|    4762.449814126394|\n",
      "|2024|  3|                    280|                 280|    4903.421428571429|\n",
      "|2023|  7|                    278|                 278|    4760.582733812949|\n",
      "|2024|  5|                    293|                 293|    4978.037542662116|\n",
      "|2022|  2|                    262|                 262|    5140.103053435115|\n",
      "|2022|  7|                    283|                 283|    5134.628975265017|\n",
      "|2021| 11|                    118|                 118|    5046.457627118644|\n",
      "+----+---+-----------------------+--------------------+---------------------+\n",
      "only showing top 10 rows\n",
      "\n"
     ]
    }
   ],
   "source": [
    "resultado_df.show(10)\n"
   ]
  },
  {
   "cell_type": "code",
   "execution_count": 0,
   "metadata": {
    "application/vnd.databricks.v1+cell": {
     "cellMetadata": {
      "byteLimit": 2048000,
      "rowLimit": 10000
     },
     "inputWidgets": {},
     "nuid": "ecd51966-2ba0-4944-99d4-2b7735e0d78d",
     "showTitle": false,
     "tableResultSettingsMap": {},
     "title": ""
    }
   },
   "outputs": [],
   "source": [
    "resultado_df.write.format(\"csv\").option(\"header\", \"true\").save(\"/path/to/save/directory\")\n"
   ]
  }
 ],
 "metadata": {
  "application/vnd.databricks.v1+notebook": {
   "dashboards": [],
   "environmentMetadata": {
    "base_environment": "",
    "client": "1"
   },
   "language": "python",
   "notebookMetadata": {
    "mostRecentlyExecutedCommandWithImplicitDF": {
     "commandId": 90708969792016,
     "dataframes": [
      "_sqldf"
     ]
    },
    "pythonIndentUnit": 4
   },
   "notebookName": "Gold",
   "widgets": {}
  },
  "language_info": {
   "name": "python"
  }
 },
 "nbformat": 4,
 "nbformat_minor": 0
}
